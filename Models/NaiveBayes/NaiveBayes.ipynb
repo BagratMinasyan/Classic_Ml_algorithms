{
 "cells": [
  {
   "cell_type": "code",
   "execution_count": 8,
   "metadata": {},
   "outputs": [],
   "source": [
    "import pandas as pd\n",
    "import numpy as np\n",
    "from sklearn.model_selection import train_test_split\n",
    "from scipy.stats import norm"
   ]
  },
  {
   "cell_type": "code",
   "execution_count": 9,
   "metadata": {},
   "outputs": [],
   "source": [
    "class NaiveBayes:\n",
    "    def __init__(self):\n",
    "        pass\n",
    "    \n",
    "    def fit(self,x,y):\n",
    "        class1,class2=x[y==0],x[y==1]\n",
    "        \n",
    "        self.mean_class1=np.mean(class1,axis=0)\n",
    "        self.mean_class2=np.mean(class2,axis=0)\n",
    "        self.std_class1=np.std(class1,axis=0)\n",
    "        self.std_class2=np.std(class2,axis=0)\n",
    "        \n",
    "        self.class1=len(class1)/len(y)\n",
    "        self.class2=len(class2)/len(y)\n",
    "        \n",
    "    def predict(self,x):\n",
    "        c = []\n",
    "        for j in range(len(x)):\n",
    "            res1=1\n",
    "            res2=1\n",
    "            # change from multiplication of probs to sum of its logarithms\n",
    "            for k in range(len(self.mean_class1)):\n",
    "                res1*=norm.pdf(x[j][k],loc=self.mean_class1[k],scale=self.std_class1[k])\n",
    "                res2*=norm.pdf(x[j][k],loc=self.mean_class2[k],scale=self.std_class2[k])\n",
    "            res1*=self.class1\n",
    "            res2*=self.class2\n",
    "            if res1>res2:\n",
    "                c.append(0)\n",
    "            else:\n",
    "                c.append(1)\n",
    "        return c\n",
    "    \n",
    "    def score(self, x, y):\n",
    "        return sum(self.predict(x)==y) / len(y)\n"
   ]
  },
  {
   "cell_type": "code",
   "execution_count": 10,
   "metadata": {},
   "outputs": [],
   "source": [
    "data=pd.read_csv('classification.csv')\n",
    "data.head(2)\n",
    "y=data.pop('default')"
   ]
  },
  {
   "cell_type": "code",
   "execution_count": 11,
   "metadata": {},
   "outputs": [],
   "source": [
    "X = data.drop('ed', axis=1).values"
   ]
  },
  {
   "cell_type": "code",
   "execution_count": 12,
   "metadata": {},
   "outputs": [],
   "source": [
    "X_train, X_test, y_train, y_test = train_test_split(X, y)"
   ]
  },
  {
   "cell_type": "code",
   "execution_count": 13,
   "metadata": {},
   "outputs": [],
   "source": [
    "clf = NaiveBayes()"
   ]
  },
  {
   "cell_type": "code",
   "execution_count": 14,
   "metadata": {},
   "outputs": [],
   "source": [
    "clf.fit(X_train, y_train)"
   ]
  },
  {
   "cell_type": "code",
   "execution_count": 15,
   "metadata": {},
   "outputs": [
    {
     "data": {
      "text/plain": [
       "0.7428571428571429"
      ]
     },
     "execution_count": 15,
     "metadata": {},
     "output_type": "execute_result"
    }
   ],
   "source": [
    "clf.score(X_test,y_test)"
   ]
  }
 ],
 "metadata": {
  "colab": {
   "name": "NaiveBayes.ipynb",
   "provenance": []
  },
  "kernelspec": {
   "display_name": "Python 3 (ipykernel)",
   "language": "python",
   "name": "python3"
  },
  "language_info": {
   "codemirror_mode": {
    "name": "ipython",
    "version": 3
   },
   "file_extension": ".py",
   "mimetype": "text/x-python",
   "name": "python",
   "nbconvert_exporter": "python",
   "pygments_lexer": "ipython3",
   "version": "3.11.5"
  }
 },
 "nbformat": 4,
 "nbformat_minor": 1
}
