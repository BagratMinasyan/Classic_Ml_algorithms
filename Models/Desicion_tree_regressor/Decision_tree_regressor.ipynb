{
 "cells": [
  {
   "cell_type": "code",
   "execution_count": 7,
   "metadata": {},
   "outputs": [],
   "source": [
    "import numpy as np\n",
    "from sklearn.metrics import r2_score"
   ]
  },
  {
   "cell_type": "code",
   "execution_count": 9,
   "metadata": {},
   "outputs": [],
   "source": [
    "class DecisionTree:\n",
    "    def __init__(self, size):\n",
    "        self.size = size\n",
    "        self.root = None\n",
    "        \n",
    "    def fit(self, X, y, level = 0):\n",
    "        if len(X) == 0:\n",
    "            return None\n",
    "        \n",
    "        M = X.shape[1]\n",
    "        \n",
    "        best_t = None\n",
    "        best_i = None\n",
    "        best_c1 = None\n",
    "        best_c2 = None\n",
    "        best_X1, best_y1, best_X2, best_y2 = None, None, None, None\n",
    "        error = None\n",
    "        best_error = np.inf\n",
    "        \n",
    "        for i in range(M):\n",
    "            for t in X[:, i]:\n",
    "                X1 = X[X[:, i] <= t]\n",
    "                y1 = y[X[:, i] <= t]\n",
    "                \n",
    "                X2 = X[X[:, i] > t]\n",
    "                y2 = y[X[:, i] > t]\n",
    "                \n",
    "                c1 = np.mean(y1)\n",
    "                c2 = np.mean(y2)\n",
    "                \n",
    "                \n",
    "                error = np.sum((y1 - c1) ** 2) + np.sum((y2 - c2) ** 2)\n",
    "                if error < best_error:\n",
    "                    best_error = error\n",
    "                    best_i = i\n",
    "                    best_t = t\n",
    "                    best_c1 = c1\n",
    "                    best_c2 = c2\n",
    "                    best_X1, best_y1, best_X2, best_y2 = X1, y1, X2, y2\n",
    "            \n",
    "        left, right = None, None\n",
    "        if level < self.size:\n",
    "            left = self.fit(best_X1, best_y1, level = level + 1)\n",
    "            right = self.fit(best_X2, best_y2, level = level + 1)\n",
    "                \n",
    "        node = {\"feature\" : best_i , \"t\" : best_t, \"c1\": best_c1, \"c2\": best_c2, \"left\" : left, \"right\" : right}\n",
    "            \n",
    "        if level == 0:\n",
    "            self.root = node\n",
    "        \n",
    "        return node\n",
    "                \n",
    "               \n",
    "    def predict(self, X):\n",
    "        y_pred = []\n",
    "        \n",
    "        for x in X:\n",
    "            node = self.root\n",
    "            y = None\n",
    "            while node is not None:\n",
    "                if x[node[\"feature\"]] <= node[\"t\"]:\n",
    "                    y = node[\"c1\"]\n",
    "                    node = node[\"left\"]\n",
    "                else:\n",
    "                    y = node[\"c2\"]\n",
    "                    node = node[\"right\"]\n",
    "            y_pred.append(y)\n",
    "        \n",
    "        y_pred = np.array(y_pred)\n",
    "        return y_pred\n",
    "                    \n",
    "                    \n",
    "    \n",
    "    def score(self, X, y_true):\n",
    "        y_pred = self.predict(X)\n",
    "        return r2_score(y_true, y_pred)"
   ]
  },
  {
   "cell_type": "code",
   "execution_count": 10,
   "metadata": {},
   "outputs": [],
   "source": [
    "from sklearn.datasets import make_regression\n",
    "from sklearn.model_selection import train_test_split\n",
    "\n",
    "X, y = make_regression(n_samples=100, n_features=5, noise=1, random_state = 42)\n",
    "X_train, X_test, y_train, y_test = train_test_split(X, y, random_state = 42)"
   ]
  },
  {
   "cell_type": "code",
   "execution_count": 11,
   "metadata": {},
   "outputs": [
    {
     "name": "stderr",
     "output_type": "stream",
     "text": [
      "D:\\Anaconda\\Lib\\site-packages\\numpy\\core\\fromnumeric.py:3464: RuntimeWarning: Mean of empty slice.\n",
      "  return _methods._mean(a, axis=axis, dtype=dtype,\n",
      "D:\\Anaconda\\Lib\\site-packages\\numpy\\core\\_methods.py:192: RuntimeWarning: invalid value encountered in scalar divide\n",
      "  ret = ret.dtype.type(ret / rcount)\n"
     ]
    },
    {
     "data": {
      "text/plain": [
       "{'feature': 1,\n",
       " 't': 0.3436182895684614,\n",
       " 'c1': -60.11328625383147,\n",
       " 'c2': 107.81404507626624,\n",
       " 'left': {'feature': 0,\n",
       "  't': -0.16128571166600914,\n",
       "  'c1': -126.28643508220091,\n",
       "  'c2': 0.30567571989718034,\n",
       "  'left': {'feature': 1,\n",
       "   't': -0.718444221252436,\n",
       "   'c1': -220.28734566291834,\n",
       "   'c2': -88.68607084991396,\n",
       "   'left': {'feature': 1,\n",
       "    't': -0.9080240755212109,\n",
       "    'c1': -300.1468653536479,\n",
       "    'c2': -180.35758581755357,\n",
       "    'left': None,\n",
       "    'right': None},\n",
       "   'right': {'feature': 4,\n",
       "    't': -1.6064463202575725,\n",
       "    'c1': -182.00601274038084,\n",
       "    'c2': -65.35608537729725,\n",
       "    'left': None,\n",
       "    'right': None}},\n",
       "  'right': {'feature': 1,\n",
       "   't': -1.245738778711988,\n",
       "   'c1': -128.93177075878958,\n",
       "   'c2': 27.5135591890944,\n",
       "   'left': {'feature': 2,\n",
       "    't': -1.2208436499710222,\n",
       "    'c1': -256.3655171644758,\n",
       "    'c2': -86.45385529022751,\n",
       "    'left': None,\n",
       "    'right': None},\n",
       "   'right': {'feature': 3,\n",
       "    't': -0.18565897666381712,\n",
       "    'c1': -55.19135940272465,\n",
       "    'c2': 65.68506007762626,\n",
       "    'left': None,\n",
       "    'right': None}}},\n",
       " 'right': {'feature': 3,\n",
       "  't': 0.06856297480602733,\n",
       "  'c1': 39.13967339329397,\n",
       "  'c2': 164.36940999165515,\n",
       "  'left': {'feature': 3,\n",
       "   't': -0.026513875449216878,\n",
       "   'c1': 53.18959403210426,\n",
       "   'c2': -143.50929491123978,\n",
       "   'left': {'feature': 3,\n",
       "    't': -0.4930009346588328,\n",
       "    'c1': 13.73124774104205,\n",
       "    'c2': 116.32294809780379,\n",
       "    'left': None,\n",
       "    'right': None},\n",
       "   'right': {'feature': 0,\n",
       "    't': -0.9194242342338032,\n",
       "    'c1': -143.50929491123978,\n",
       "    'c2': nan,\n",
       "    'left': None,\n",
       "    'right': None}},\n",
       "  'right': {'feature': 0,\n",
       "   't': 0.6296288419236122,\n",
       "   'c1': 119.43456606515605,\n",
       "   'c2': 246.74995719023676,\n",
       "   'left': {'feature': 1,\n",
       "    't': 0.5040465155178444,\n",
       "    'c1': 34.25777973967073,\n",
       "    'c2': 127.95224469770457,\n",
       "    'left': None,\n",
       "    'right': None},\n",
       "   'right': {'feature': 1,\n",
       "    't': 0.44381942814622843,\n",
       "    'c1': 152.42107447190696,\n",
       "    'c2': 293.9143985494017,\n",
       "    'left': None,\n",
       "    'right': None}}}}"
      ]
     },
     "execution_count": 11,
     "metadata": {},
     "output_type": "execute_result"
    }
   ],
   "source": [
    "reg = DecisionTree(size = 3)\n",
    "reg.fit(X_train, y_train)"
   ]
  },
  {
   "cell_type": "code",
   "execution_count": 12,
   "metadata": {},
   "outputs": [
    {
     "name": "stdout",
     "output_type": "stream",
     "text": [
      "0.8637606855998137\n",
      "0.5715166714193223\n"
     ]
    }
   ],
   "source": [
    "print(reg.score(X_train, y_train))\n",
    "print(reg.score(X_test, y_test))"
   ]
  }
 ],
 "metadata": {
  "kernelspec": {
   "display_name": "Python 3 (ipykernel)",
   "language": "python",
   "name": "python3"
  },
  "language_info": {
   "codemirror_mode": {
    "name": "ipython",
    "version": 3
   },
   "file_extension": ".py",
   "mimetype": "text/x-python",
   "name": "python",
   "nbconvert_exporter": "python",
   "pygments_lexer": "ipython3",
   "version": "3.11.5"
  }
 },
 "nbformat": 4,
 "nbformat_minor": 4
}
